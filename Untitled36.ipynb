{
 "cells": [
  {
   "cell_type": "code",
   "execution_count": 8,
   "id": "76930448",
   "metadata": {},
   "outputs": [],
   "source": [
    "import pandas as pd\n",
    "import numpy as np\n",
    "from sklearn.feature_extraction.text import TfidfVectorizer\n",
    "from sklearn.model_selection import train_test_split\n",
    "from sklearn.linear_model import LogisticRegression\n",
    "from sklearn.metrics import accuracy_score"
   ]
  },
  {
   "cell_type": "code",
   "execution_count": 51,
   "id": "94cc2610",
   "metadata": {},
   "outputs": [
    {
     "data": {
      "text/plain": [
       "0.9659192825112107"
      ]
     },
     "execution_count": 51,
     "metadata": {},
     "output_type": "execute_result"
    }
   ],
   "source": [
    "df = pd.read_csv(\"E:\\\\Deep Learning Projects\\\\Datasets\\\\EmailDataset\\\\mail_data.csv\")\n",
    "data = df.where(pd.notnull(df),'')\n",
    "\n",
    "# 0 for spam and 1 for ham \n",
    "data.loc[data['Category']=='spam','Category',] = 0\n",
    "data.loc[data['Category']=='ham','Category',] = 1\n",
    "\n",
    "x = data['Message']\n",
    "y = data['Category']\n",
    "\n",
    "# Spliting the dataset as traning dataset and test dataset\n",
    "x_train,x_test,y_train,y_test = train_test_split(x,y,random_state=3,test_size=0.2)\n",
    "\n",
    "feature_extraction = TfidfVectorizer(min_df=1,lowercase=True,stop_words='english')\n",
    "\n",
    "x_train_features = feature_extraction.fit_transform(x_train)\n",
    "x_test_features = feature_extraction.transform(x_test)\n",
    "\n",
    "y_train = y_train.astype(int)\n",
    "y_test = y_test.astype(int)\n",
    "\n",
    "with open(\"TFIDFVectorizer.pkl\", \"wb\") as vectorizer_file:\n",
    "    pickle.dump(feature_extraction, vectorizer_file)\n",
    "\n",
    "model = LogisticRegression()\n",
    "model.fit(x_train_features,y_train)\n",
    "\n",
    "# Accuracy during training\n",
    "y_pred = model.predict(x_train_features)\n",
    "accuracy = accuracy_score(y_train,y_pred)\n",
    "accuracy\n",
    "\n",
    "# printing test accuracy\n",
    "y_pred = model.predict(x_test_features)\n",
    "accuracy = accuracy_score(y_test,y_pred)\n",
    "accuracy\n"
   ]
  },
  {
   "cell_type": "code",
   "execution_count": 50,
   "id": "6ee91750",
   "metadata": {},
   "outputs": [],
   "source": [
    "input_your_email = [\"\"]\n",
    "input_data_features = feature_extraction.transform(input_your_email)\n",
    "prediction = model.predict(input_data_features)\n",
    "\n",
    "prediction\n",
    "\n",
    "import pickle\n",
    "\n",
    "pickle.dump(model,open('EmailSpamChecker.pkl','wb'))\n",
    "\n"
   ]
  },
  {
   "cell_type": "code",
   "execution_count": null,
   "id": "3d60e40b",
   "metadata": {},
   "outputs": [],
   "source": [
    "\n"
   ]
  },
  {
   "cell_type": "code",
   "execution_count": null,
   "id": "bc03142b",
   "metadata": {},
   "outputs": [],
   "source": []
  },
  {
   "cell_type": "code",
   "execution_count": null,
   "id": "f09b8f29",
   "metadata": {},
   "outputs": [],
   "source": []
  },
  {
   "cell_type": "code",
   "execution_count": null,
   "id": "72fa70b4",
   "metadata": {},
   "outputs": [],
   "source": []
  }
 ],
 "metadata": {
  "kernelspec": {
   "display_name": "Python 3 (ipykernel)",
   "language": "python",
   "name": "python3"
  },
  "language_info": {
   "codemirror_mode": {
    "name": "ipython",
    "version": 3
   },
   "file_extension": ".py",
   "mimetype": "text/x-python",
   "name": "python",
   "nbconvert_exporter": "python",
   "pygments_lexer": "ipython3",
   "version": "3.10.9"
  }
 },
 "nbformat": 4,
 "nbformat_minor": 5
}
